{
 "cells": [
  {
   "cell_type": "code",
   "execution_count": 1,
   "id": "f243085f-45b0-4177-90c5-80ff82a845d2",
   "metadata": {},
   "outputs": [],
   "source": [
    "# Importing modules and libraries including custom scripts\n",
    "import pandas as pd\n",
    "import matplotlib.pyplot as plt\n",
    "import networkx as nx\n",
    "import numpy as np\n",
    "from scipy.stats import spearmanr\n",
    "import time\n",
    "from scipy import sparse"
   ]
  },
  {
   "cell_type": "markdown",
   "id": "c95a0e4d-2787-46f0-a513-09f0405f3614",
   "metadata": {},
   "source": [
    "Loading data"
   ]
  },
  {
   "cell_type": "code",
   "execution_count": 2,
   "id": "5aeeef2e-4c57-42b1-b53a-004ae3470543",
   "metadata": {},
   "outputs": [
    {
     "name": "stdout",
     "output_type": "stream",
     "text": [
      "                                          0  \\\n",
      "0                                 citing_id   \n",
      "1  79b1c84af0aea452e8bbfbff8f5ef35edd1e0ceb   \n",
      "2  79b1c84af0aea452e8bbfbff8f5ef35edd1e0ceb   \n",
      "3  43981a8e26a5a82f6f852f9fb1734e716663a65b   \n",
      "4  43981a8e26a5a82f6f852f9fb1734e716663a65b   \n",
      "\n",
      "                                          1  \n",
      "0                                  cited_id  \n",
      "1  593f3310f774aa826c656b65c8cbc12a96961904  \n",
      "2  25b3e47fb7413c7b4aa3de6a94f126a472559112  \n",
      "3  9a8fbfe897e0b60e2cc939cbba069345f6253cc7  \n",
      "4  62b048f93b98e2a42cd18a3d4155e33c1739bc51  \n"
     ]
    }
   ],
   "source": [
    "# Load citation data from CSV\n",
    "# Columns: \n",
    "# [0] citing_id – the ID of the citing paper\n",
    "# [1] cited_id  – the ID of the cited paper\n",
    "path = '/lustre/b192aa/b192aa36/input/citations.csv'\n",
    "\n",
    "citations_df = pd.read_csv(path, header=None) \n",
    "\n",
    "print(citations_df.head())"
   ]
  },
  {
   "cell_type": "code",
   "execution_count": 3,
   "id": "82931e11-517e-466d-856a-1f77bb78d011",
   "metadata": {},
   "outputs": [],
   "source": [
    "citations_df.columns = ['citing_id', 'cited_id']"
   ]
  },
  {
   "cell_type": "markdown",
   "id": "0ef96091-b357-4da3-a27d-c1c9651f510f",
   "metadata": {},
   "source": [
    "Manual"
   ]
  },
  {
   "cell_type": "code",
   "execution_count": 4,
   "id": "5bf6ac34-73a5-458e-aadc-37918452df97",
   "metadata": {},
   "outputs": [
    {
     "name": "stdout",
     "output_type": "stream",
     "text": [
      "Building an adjacent dictionary took 430.6377 seconds\n"
     ]
    }
   ],
   "source": [
    "g_start1 = time.time()\n",
    "adj_dict = citations_df.groupby('citing_id')['cited_id'].apply(list).to_dict()\n",
    "g_end1   = time.time()\n",
    "print(f\"Building an adjacent dictionary took {g_end1 - g_start1:.4f} seconds\")"
   ]
  },
  {
   "cell_type": "code",
   "execution_count": 5,
   "id": "dfe70f9f-96ca-4170-9d76-03853bda39cd",
   "metadata": {},
   "outputs": [],
   "source": [
    "def pagerank(graph_dict, alpha: float = 0.85, max_steps: int = 100, tolerance: float = 1e-6):\n",
    "    \"\"\"\n",
    "    Compute PageRank scores for a directed graph using power iteration\n",
    "\n",
    "    Parameters\n",
    "    ----------\n",
    "    graph_dict : dict\n",
    "        Dictionary mapping source nodes to lists of target nodes (adjacency list)\n",
    "    alpha : float\n",
    "        Damping factor\n",
    "    max_steps : int\n",
    "        Maximum number of iterations to perform\n",
    "    tolerance : float\n",
    "        Convergence threshold for L1 norm between iterations\n",
    "\n",
    "    Returns\n",
    "    -------\n",
    "    pagerank_scores : dict\n",
    "        Dictionary mapping each node to its PageRank score\n",
    "    \"\"\"\n",
    "    # Gather all unique nodes in the graph\n",
    "    node_set = set(graph_dict.keys()) # O(N)\n",
    "    \n",
    "    for targets in graph_dict.values(): # O(E)\n",
    "        node_set.update(targets)\n",
    "\n",
    "    node_list = list(node_set)\n",
    "    num_nodes = len(node_list)\n",
    "\n",
    "    # Map node labels to matrix indices\n",
    "    node_index = {node: i for i, node in enumerate(node_list)}\n",
    "\n",
    "    # Build transition matrix in sparse format\n",
    "    out_degree = np.zeros(num_nodes, dtype=np.int32)\n",
    "    row_indices, col_indices, values = [], [], []\n",
    "\n",
    "    for source, targets in graph_dict.items():\n",
    "        src_idx = node_index[source]\n",
    "        num_targets = len(targets)\n",
    "        out_degree[src_idx] = num_targets # for handling dangling nodes\n",
    "\n",
    "        if num_targets > 0:\n",
    "            weight = 1.0 / num_targets\n",
    "            for target in targets:\n",
    "                tgt_idx = node_index[target]\n",
    "                # Build M such that M[tgt, src] = 1 / out_deg[src]\n",
    "                row_indices.append(tgt_idx)\n",
    "                col_indices.append(src_idx)\n",
    "                values.append(weight)\n",
    "\n",
    "    # Create a compressed sparse row matrix\n",
    "    transition_matrix = sparse.csr_matrix((values, (row_indices, col_indices)), shape=(num_nodes, num_nodes))\n",
    "\n",
    "    # Identify dangling nodes (no outbound links)\n",
    "    dangling_nodes = np.where(out_degree == 0)[0] # O(N)\n",
    "\n",
    "    # Initialize PageRank vector with uniform values\n",
    "    rank = np.ones(num_nodes) / num_nodes\n",
    "    teleportation = (1.0 - alpha) / num_nodes\n",
    "\n",
    "    # Run the power iteration algorithm\n",
    "    for _ in range(max_steps): # O(100) for max_steps=100\n",
    "        dangling_sum = rank[dangling_nodes].sum() \n",
    "        updated_rank = alpha * (transition_matrix.dot(rank) + dangling_sum / num_nodes) + teleportation\n",
    "        delta = np.abs(updated_rank - rank).sum()\n",
    "        rank = updated_rank\n",
    "        if delta < tolerance:\n",
    "            break\n",
    "\n",
    "    # Map final scores back to original node labels\n",
    "    pagerank_scores = {node: float(rank[node_index[node]]) for node in node_list}\n",
    "    return pagerank_scores"
   ]
  },
  {
   "cell_type": "code",
   "execution_count": 6,
   "id": "cb8fc51f-32aa-4642-b8d6-42035429f900",
   "metadata": {},
   "outputs": [
    {
     "name": "stdout",
     "output_type": "stream",
     "text": [
      "Custom PageRank Implementation took 991.6850 seconds\n"
     ]
    }
   ],
   "source": [
    "start1 = time.time()\n",
    "results = pagerank(adj_dict)\n",
    "end1   = time.time()\n",
    "print(f\"Custom PageRank Implementation took {end1 - start1:.4f} seconds\")"
   ]
  },
  {
   "cell_type": "code",
   "execution_count": 7,
   "id": "7afaeb3e-0b9b-4b4f-aade-28aba6f7ab26",
   "metadata": {},
   "outputs": [
    {
     "name": "stdout",
     "output_type": "stream",
     "text": [
      "                                   paper_id      pagerank\n",
      "0  8014c463399a689d37f96252a97560fd18ba265f  1.454107e-08\n",
      "1  075315ccf7893f990d595c0d5cac55d97267d84d  1.874736e-08\n",
      "2  f27199f4a1b92d33b4cec056c9a740df7a5c2520  1.366792e-08\n",
      "3  f50afb095a8daf134476a2f2504972850725ee06  2.823798e-08\n",
      "4  b2f9b04f401bba050aac0c70015cfce6e7d18622  1.452558e-08\n"
     ]
    }
   ],
   "source": [
    "df_results = (\n",
    "    pd.DataFrame.from_dict(\n",
    "        results,\n",
    "        orient='index',\n",
    "        columns=['pagerank']      # name the PageRank column “pagerank” right away\n",
    "    )\n",
    "    .reset_index()             # brings the keys out as a column named “index”\n",
    "    .rename(columns={'index':'paper_id'})  # give columns names\n",
    ")\n",
    "print(df_results.head())"
   ]
  },
  {
   "cell_type": "code",
   "execution_count": 8,
   "id": "1eebefa5-c70f-418e-8077-eb75a90b0029",
   "metadata": {},
   "outputs": [],
   "source": [
    "df_results['pagerank_scaled'] = (df_results['pagerank'] * 1e6).round(2)"
   ]
  },
  {
   "cell_type": "code",
   "execution_count": 9,
   "id": "4c1acad6-91df-4491-986a-cf500eeaa751",
   "metadata": {},
   "outputs": [],
   "source": [
    "# Add a “rank” column (highest PageRank gets rank 1)\n",
    "df_results['rank'] = (\n",
    "    df_results['pagerank']\n",
    "    .rank(method='min', ascending=False)\n",
    "    .astype(int)\n",
    ")"
   ]
  },
  {
   "cell_type": "markdown",
   "id": "8008711a-be11-413f-89ed-bb4155a64155",
   "metadata": {},
   "source": [
    "NetworkX"
   ]
  },
  {
   "cell_type": "code",
   "execution_count": 10,
   "id": "2dc1bd20-ab41-4993-aea6-21488bfffb5b",
   "metadata": {},
   "outputs": [
    {
     "name": "stdout",
     "output_type": "stream",
     "text": [
      "Building a directed graph took 1538.1893 seconds\n"
     ]
    }
   ],
   "source": [
    "# Build a DiGraph from citation DataFrame\n",
    "g_start2 = time.time()\n",
    "G = nx.from_pandas_edgelist(\n",
    "    citations_df,\n",
    "    source='citing_id',\n",
    "    target='cited_id',\n",
    "    create_using=nx.DiGraph()\n",
    ")\n",
    "g_end2  = time.time()\n",
    "print(f\"Building a directed graph took {g_end2 - g_start2:.4f} seconds\")"
   ]
  },
  {
   "cell_type": "code",
   "execution_count": 11,
   "id": "54694e51-b8ee-4354-a4f0-34d8b2b318de",
   "metadata": {},
   "outputs": [
    {
     "name": "stdout",
     "output_type": "stream",
     "text": [
      "NetworkX PageRank Implementation took 2623.2124 seconds\n"
     ]
    }
   ],
   "source": [
    "start2 = time.time()\n",
    "# Compute PageRank\n",
    "pr_dict = nx.pagerank(\n",
    "    G,\n",
    "    alpha=0.85,    # damping factor\n",
    "    max_iter=100,\n",
    "    tol=1e-6\n",
    ")\n",
    "end2   = time.time()\n",
    "print(f\"NetworkX PageRank Implementation took {end2 - start2:.4f} seconds\")"
   ]
  },
  {
   "cell_type": "code",
   "execution_count": 12,
   "id": "6992ec60-beb1-4cba-a4e2-44b276020e09",
   "metadata": {},
   "outputs": [],
   "source": [
    "# Turn the dict into a DataFrame\n",
    "pr_df = (\n",
    "    pd.DataFrame\n",
    "      .from_dict(pr_dict, orient='index', columns=['pagerank'])\n",
    "      .reset_index()\n",
    "      .rename(columns={'index':'paper_id'})\n",
    ")\n",
    "\n",
    "# sort\n",
    "pr_df = pr_df.sort_values('pagerank', ascending=False).reset_index(drop=True)"
   ]
  },
  {
   "cell_type": "code",
   "execution_count": 13,
   "id": "074757d0-81bc-4c4b-88e4-237f47846564",
   "metadata": {},
   "outputs": [],
   "source": [
    "pr_df['pagerank_scaled'] = (pr_df['pagerank'] * 1e6).round(2)"
   ]
  },
  {
   "cell_type": "code",
   "execution_count": 14,
   "id": "27761ecf-a05b-4d66-84c3-23e850307c47",
   "metadata": {},
   "outputs": [],
   "source": [
    "# Add a “rank” column (highest PageRank gets rank 1)\n",
    "pr_df['rank'] = (\n",
    "    pr_df['pagerank']\n",
    "    .rank(method='min', ascending=False)\n",
    "    .astype(int)\n",
    ")"
   ]
  },
  {
   "cell_type": "markdown",
   "id": "9bb17295-72fd-482a-a85a-4d5799b39b43",
   "metadata": {},
   "source": [
    "Compare"
   ]
  },
  {
   "cell_type": "code",
   "execution_count": 15,
   "id": "82641cdb-40d4-4e83-abe2-0a72d0e18471",
   "metadata": {},
   "outputs": [],
   "source": [
    "# Merge dfs on paper_id\n",
    "merged = pd.merge(\n",
    "    df_results,\n",
    "    pr_df,\n",
    "    on='paper_id',\n",
    "    suffixes=('_res', '_pr')\n",
    ")"
   ]
  },
  {
   "cell_type": "code",
   "execution_count": 16,
   "id": "d794e799-c3f7-408f-9d39-32c286137435",
   "metadata": {},
   "outputs": [
    {
     "data": {
      "image/png": "[encoded data removed]",
      "text/plain": [
       "<Figure size 600x600 with 1 Axes>"
      ]
     },
     "metadata": {},
     "output_type": "display_data"
    }
   ],
   "source": [
    "# Scatter plot of scaled PageRank scores\n",
    "plt.figure(figsize=(6, 6))\n",
    "plt.scatter(\n",
    "    merged['pagerank_scaled_res'],\n",
    "    merged['pagerank_scaled_pr'],\n",
    "    alpha=0.6\n",
    ")\n",
    "plt.xlabel('pagerank_scaled (df_results)')\n",
    "plt.ylabel('pagerank_scaled (pr_df)')\n",
    "plt.title('Comparison of Scaled PageRank Scores')\n",
    "plt.tight_layout()\n",
    "plt.show()"
   ]
  },
  {
   "cell_type": "code",
   "execution_count": 17,
   "id": "d344f0f2-cd84-4d8b-ad15-5bac5b8baf91",
   "metadata": {},
   "outputs": [
    {
     "name": "stdout",
     "output_type": "stream",
     "text": [
      "                                paper_id  pagerank_res  pagerank_pr\n",
      "8ceb75144ecb846bf463e7565e6a18998ae29d1a      0.000119     0.000094\n",
      "b4a694952ff9876f4119c90f229716550b57d997      0.000104     0.000001\n",
      "3d2218b17e7898a222e5fc2079a3f1531990708f      0.000068     0.000071\n",
      "77ff0bb96b1d085fe284c0a5d87d1d109001afcd      0.000059     0.000052\n",
      "73f36ff3a6d340606e09d2d0091da27a13af7a6f      0.000053     0.000037\n",
      "89f4a8ed61c1af384c895984ece7f07148747fdf      0.000048     0.000048\n",
      "ca5cb4e0826b424adb81cbb4f2e3c88c391a4075      0.000043     0.000041\n",
      "78510d00faa87970833c79170fc3024817e54c27      0.000042     0.000042\n",
      "e0a7cdd0e0c9ade81d03ab6515767a2d2d9a90ff      0.000037     0.000014\n",
      "16c2d2e57c2d64655267b5edb588ff8c0801f1ce      0.000035     0.000023\n"
     ]
    }
   ],
   "source": [
    "# Take the top 10 by NetworkX’s PageRank\n",
    "top10 = (\n",
    "    merged\n",
    "    .sort_values('pagerank_res', ascending=False)\n",
    "    .head(10)\n",
    "    .reset_index(drop=True)\n",
    ")\n",
    "\n",
    "# Show both scores side by side\n",
    "print(top10[['paper_id', 'pagerank_res', 'pagerank_pr']].to_string(index=False))"
   ]
  },
  {
   "cell_type": "code",
   "execution_count": null,
   "id": "a50d5cec-8009-43e7-92b0-012aeaff2db9",
   "metadata": {
    "editable": true,
    "slideshow": {
     "slide_type": ""
    },
    "tags": []
   },
   "outputs": [],
   "source": []
  }
 ],
 "metadata": {
  "kernelspec": {
   "display_name": "graph",
   "language": "python",
   "name": "graph"
  },
  "language_info": {
   "codemirror_mode": {
    "name": "ipython",
    "version": 3
   },
   "file_extension": ".py",
   "mimetype": "text/x-python",
   "name": "python",
   "nbconvert_exporter": "python",
   "pygments_lexer": "ipython3",
   "version": "3.9.23"
  }
 },
 "nbformat": 4,
 "nbformat_minor": 5
}
