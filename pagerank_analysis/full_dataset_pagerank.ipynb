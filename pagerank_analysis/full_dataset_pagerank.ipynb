{
 "cells": [
  {
   "cell_type": "code",
   "execution_count": 1,
   "id": "3455eba5-f82c-4b64-8234-b21f7d1cedff",
   "metadata": {},
   "outputs": [],
   "source": [
    "# Importing modules and libraries\n",
    "import pandas as pd\n",
    "import matplotlib.pyplot as plt\n",
    "import networkx as nx\n",
    "import matplotlib.colors as mcolors\n",
    "from pyvis.network import Network\n",
    "import webbrowser\n",
    "import plotly.graph_objects as go\n",
    "import numpy as np\n",
    "from scipy.cluster.hierarchy import linkage, leaves_list\n",
    "from IPython.display import HTML, display, IFrame, Markdown\n",
    "import seaborn as sns"
   ]
  },
  {
   "cell_type": "code",
   "execution_count": 2,
   "id": "66f29427-64bf-4a3f-aee9-60100c740046",
   "metadata": {},
   "outputs": [
    {
     "data": {
      "text/html": [
       "<div>\n",
       "<style scoped>\n",
       "    .dataframe tbody tr th:only-of-type {\n",
       "        vertical-align: middle;\n",
       "    }\n",
       "\n",
       "    .dataframe tbody tr th {\n",
       "        vertical-align: top;\n",
       "    }\n",
       "\n",
       "    .dataframe thead th {\n",
       "        text-align: right;\n",
       "    }\n",
       "</style>\n",
       "<table border=\"1\" class=\"dataframe\">\n",
       "  <thead>\n",
       "    <tr style=\"text-align: right;\">\n",
       "      <th></th>\n",
       "      <th>paper_id</th>\n",
       "      <th>pagerank</th>\n",
       "      <th>fields_of_study</th>\n",
       "    </tr>\n",
       "  </thead>\n",
       "  <tbody>\n",
       "    <tr>\n",
       "      <th>0</th>\n",
       "      <td>79b1c84af0aea452e8bbfbff8f5ef35edd1e0ceb</td>\n",
       "      <td>1.485953e-08</td>\n",
       "      <td>Chemistry</td>\n",
       "    </tr>\n",
       "    <tr>\n",
       "      <th>1</th>\n",
       "      <td>43981a8e26a5a82f6f852f9fb1734e716663a65b</td>\n",
       "      <td>1.413465e-08</td>\n",
       "      <td>Chemistry</td>\n",
       "    </tr>\n",
       "    <tr>\n",
       "      <th>2</th>\n",
       "      <td>df66e8bedee9eb79034acfb5c906f8af2ba1c7eb</td>\n",
       "      <td>1.572851e-08</td>\n",
       "      <td>Materials Science</td>\n",
       "    </tr>\n",
       "    <tr>\n",
       "      <th>3</th>\n",
       "      <td>02a6d1c7f945b25de94c34e92728ebbf30588a2f</td>\n",
       "      <td>1.457660e-08</td>\n",
       "      <td>Materials Science</td>\n",
       "    </tr>\n",
       "    <tr>\n",
       "      <th>4</th>\n",
       "      <td>67cbec764dbac45934787af7b5a78d0de58ac67e</td>\n",
       "      <td>1.513142e-08</td>\n",
       "      <td>Physics</td>\n",
       "    </tr>\n",
       "  </tbody>\n",
       "</table>\n",
       "</div>"
      ],
      "text/plain": [
       "                                   paper_id      pagerank    fields_of_study\n",
       "0  79b1c84af0aea452e8bbfbff8f5ef35edd1e0ceb  1.485953e-08          Chemistry\n",
       "1  43981a8e26a5a82f6f852f9fb1734e716663a65b  1.413465e-08          Chemistry\n",
       "2  df66e8bedee9eb79034acfb5c906f8af2ba1c7eb  1.572851e-08  Materials Science\n",
       "3  02a6d1c7f945b25de94c34e92728ebbf30588a2f  1.457660e-08  Materials Science\n",
       "4  67cbec764dbac45934787af7b5a78d0de58ac67e  1.513142e-08            Physics"
      ]
     },
     "execution_count": 2,
     "metadata": {},
     "output_type": "execute_result"
    }
   ],
   "source": [
    "# Load into DataFrame\n",
    "csv_path = '/lustre/b192aa/b192aa36/input/pagerank_merged.csv'\n",
    "df = pd.read_csv(csv_path)\n",
    "\n",
    "# Preview\n",
    "df.head()"
   ]
  },
  {
   "cell_type": "code",
   "execution_count": 3,
   "id": "d7d7c48c-bd35-41d4-bdbb-bf57558b5b70",
   "metadata": {},
   "outputs": [],
   "source": [
    "df['pagerank'] = df['pagerank'].astype(float)"
   ]
  },
  {
   "cell_type": "code",
   "execution_count": null,
   "id": "5eab2829",
   "metadata": {},
   "outputs": [],
   "source": []
  },
  {
   "cell_type": "code",
   "execution_count": 4,
   "id": "266602ea-c93b-4932-a5c4-bde65dbc2b00",
   "metadata": {},
   "outputs": [],
   "source": [
    "df['pagerank_scaled'] = (df['pagerank'] * 1e6).round(2)\n",
    "# Add a “rank” column (highest PageRank gets rank 1)\n",
    "df['rank'] = (\n",
    "    df['pagerank']\n",
    "    .rank(method='min', ascending=False)\n",
    "    .astype(int)\n",
    ")"
   ]
  },
  {
   "cell_type": "code",
   "execution_count": 5,
   "id": "3ca8bf65-da33-4030-ade8-64063c9cf3e2",
   "metadata": {},
   "outputs": [
    {
     "name": "stdout",
     "output_type": "stream",
     "text": [
      "          0           1                                         2  \\\n",
      "0  authorId  authorName                                   paperId   \n",
      "1  50706060   M. Oliver  9fde2ca8f3ac0a5a543d7249092a7259b4f0cf55   \n",
      "2  50706060   M. Oliver  077fba5d29c3c1ad0057c5f508dd7bad4a60d8aa   \n",
      "3  50706060   M. Oliver  15ceedba62972fa35ec93940e2922dc400b36b5a   \n",
      "4  50706060   M. Oliver  3df77554df51ec50d9c9b2a56c7a624544589fea   \n",
      "\n",
      "                                                   3  \\\n",
      "0                                              title   \n",
      "1  Advancing eddy parameterizations: Dynamic ener...   \n",
      "2  On the Relation between Fourier and Walsh--Rad...   \n",
      "3  Quasi-convergence of an implementation of opti...   \n",
      "4  Advancing the simulation of mesoscale eddies: ...   \n",
      "\n",
      "                                     4  \n",
      "0                        fieldsOfStudy  \n",
      "1                                  NaN  \n",
      "2                                  NaN  \n",
      "3  ['Computer Science', 'Mathematics']  \n",
      "4                          ['Geology']  \n"
     ]
    }
   ],
   "source": [
    "path2 = '/lustre/b192aa/b192aa36/input/papers_by_authors.csv'\n",
    "professors_df = pd.read_csv(path2, header=None)\n",
    "print(professors_df.head())"
   ]
  },
  {
   "cell_type": "code",
   "execution_count": 6,
   "id": "4c45eee3-d647-4981-bbfa-b6d61c887983",
   "metadata": {},
   "outputs": [],
   "source": [
    "# Columns aren't named properly. Rename them and drop the first row\n",
    "professors_df.columns = ['authorId', 'authorName', 'paperId', 'title', 'fieldsOfStudy']\n",
    "professors_df = professors_df.iloc[1:].reset_index(drop=True)"
   ]
  },
  {
   "cell_type": "code",
   "execution_count": 7,
   "id": "02829148-833a-46d2-a914-11e2e9229f03",
   "metadata": {},
   "outputs": [
    {
     "name": "stdout",
     "output_type": "stream",
     "text": [
      "Top 10 PageRank scores:\n",
      "                                          paper_id  pagerank  rank  \\\n",
      "5785132   8ceb75144ecb846bf463e7565e6a18998ae29d1a  0.000119     1   \n",
      "22141643  b4a694952ff9876f4119c90f229716550b57d997  0.000104     2   \n",
      "16603152  3d2218b17e7898a222e5fc2079a3f1531990708f  0.000068     3   \n",
      "16602931  77ff0bb96b1d085fe284c0a5d87d1d109001afcd  0.000059     4   \n",
      "16602438  73f36ff3a6d340606e09d2d0091da27a13af7a6f  0.000053     5   \n",
      "16616092  89f4a8ed61c1af384c895984ece7f07148747fdf  0.000048     6   \n",
      "16604776  ca5cb4e0826b424adb81cbb4f2e3c88c391a4075  0.000043     7   \n",
      "5765838   78510d00faa87970833c79170fc3024817e54c27  0.000042     8   \n",
      "16663177  e0a7cdd0e0c9ade81d03ab6515767a2d2d9a90ff  0.000037     9   \n",
      "16620077  16c2d2e57c2d64655267b5edb588ff8c0801f1ce  0.000035    10   \n",
      "\n",
      "          pagerank_scaled  \n",
      "5785132            119.09  \n",
      "22141643           104.16  \n",
      "16603152            67.83  \n",
      "16602931            59.28  \n",
      "16602438            52.70  \n",
      "16616092            48.32  \n",
      "16604776            43.36  \n",
      "5765838             42.01  \n",
      "16663177            37.30  \n",
      "16620077            34.64  \n"
     ]
    }
   ],
   "source": [
    "# See the top 10 papers\n",
    "print(\"Top 10 PageRank scores:\")\n",
    "top_10 = df[['paper_id','pagerank','rank', 'pagerank_scaled']].sort_values('rank').head(10)\n",
    "print(top_10)"
   ]
  },
  {
   "cell_type": "code",
   "execution_count": 8,
   "id": "e4d37a37-99d5-4fb8-8ee6-0f5e3130e826",
   "metadata": {},
   "outputs": [
    {
     "data": {
      "text/html": [
       "<table border=\"1\" class=\"dataframe\">\n",
       "  <thead>\n",
       "    <tr style=\"text-align: right;\">\n",
       "      <th>paper_id</th>\n",
       "      <th>pagerank</th>\n",
       "      <th>rank</th>\n",
       "      <th>pagerank_scaled</th>\n",
       "    </tr>\n",
       "  </thead>\n",
       "  <tbody>\n",
       "    <tr>\n",
       "      <td><a href=\"https://www.semanticscholar.org/paper/8ceb75144ecb846bf463e7565e6a18998ae29d1a\" target=\"_blank\">8ceb75144ecb846bf463e7565e6a18998ae29d1a</a></td>\n",
       "      <td>0.000119</td>\n",
       "      <td>1</td>\n",
       "      <td>119.09</td>\n",
       "    </tr>\n",
       "    <tr>\n",
       "      <td><a href=\"https://www.semanticscholar.org/paper/b4a694952ff9876f4119c90f229716550b57d997\" target=\"_blank\">b4a694952ff9876f4119c90f229716550b57d997</a></td>\n",
       "      <td>0.000104</td>\n",
       "      <td>2</td>\n",
       "      <td>104.16</td>\n",
       "    </tr>\n",
       "    <tr>\n",
       "      <td><a href=\"https://www.semanticscholar.org/paper/3d2218b17e7898a222e5fc2079a3f1531990708f\" target=\"_blank\">3d2218b17e7898a222e5fc2079a3f1531990708f</a></td>\n",
       "      <td>0.000068</td>\n",
       "      <td>3</td>\n",
       "      <td>67.83</td>\n",
       "    </tr>\n",
       "    <tr>\n",
       "      <td><a href=\"https://www.semanticscholar.org/paper/77ff0bb96b1d085fe284c0a5d87d1d109001afcd\" target=\"_blank\">77ff0bb96b1d085fe284c0a5d87d1d109001afcd</a></td>\n",
       "      <td>0.000059</td>\n",
       "      <td>4</td>\n",
       "      <td>59.28</td>\n",
       "    </tr>\n",
       "    <tr>\n",
       "      <td><a href=\"https://www.semanticscholar.org/paper/73f36ff3a6d340606e09d2d0091da27a13af7a6f\" target=\"_blank\">73f36ff3a6d340606e09d2d0091da27a13af7a6f</a></td>\n",
       "      <td>0.000053</td>\n",
       "      <td>5</td>\n",
       "      <td>52.70</td>\n",
       "    </tr>\n",
       "    <tr>\n",
       "      <td><a href=\"https://www.semanticscholar.org/paper/89f4a8ed61c1af384c895984ece7f07148747fdf\" target=\"_blank\">89f4a8ed61c1af384c895984ece7f07148747fdf</a></td>\n",
       "      <td>0.000048</td>\n",
       "      <td>6</td>\n",
       "      <td>48.32</td>\n",
       "    </tr>\n",
       "    <tr>\n",
       "      <td><a href=\"https://www.semanticscholar.org/paper/ca5cb4e0826b424adb81cbb4f2e3c88c391a4075\" target=\"_blank\">ca5cb4e0826b424adb81cbb4f2e3c88c391a4075</a></td>\n",
       "      <td>0.000043</td>\n",
       "      <td>7</td>\n",
       "      <td>43.36</td>\n",
       "    </tr>\n",
       "    <tr>\n",
       "      <td><a href=\"https://www.semanticscholar.org/paper/78510d00faa87970833c79170fc3024817e54c27\" target=\"_blank\">78510d00faa87970833c79170fc3024817e54c27</a></td>\n",
       "      <td>0.000042</td>\n",
       "      <td>8</td>\n",
       "      <td>42.01</td>\n",
       "    </tr>\n",
       "    <tr>\n",
       "      <td><a href=\"https://www.semanticscholar.org/paper/e0a7cdd0e0c9ade81d03ab6515767a2d2d9a90ff\" target=\"_blank\">e0a7cdd0e0c9ade81d03ab6515767a2d2d9a90ff</a></td>\n",
       "      <td>0.000037</td>\n",
       "      <td>9</td>\n",
       "      <td>37.30</td>\n",
       "    </tr>\n",
       "    <tr>\n",
       "      <td><a href=\"https://www.semanticscholar.org/paper/16c2d2e57c2d64655267b5edb588ff8c0801f1ce\" target=\"_blank\">16c2d2e57c2d64655267b5edb588ff8c0801f1ce</a></td>\n",
       "      <td>0.000035</td>\n",
       "      <td>10</td>\n",
       "      <td>34.64</td>\n",
       "    </tr>\n",
       "  </tbody>\n",
       "</table>"
      ],
      "text/plain": [
       "<IPython.core.display.HTML object>"
      ]
     },
     "execution_count": 8,
     "metadata": {},
     "output_type": "execute_result"
    }
   ],
   "source": [
    "# Base URL format\n",
    "base_url = \"https://www.semanticscholar.org/paper/\"\n",
    "\n",
    "# Create a copy with clickable links\n",
    "top_10_display = top_10.copy()\n",
    "top_10_display['paper_id'] = top_10_display['paper_id'].apply(\n",
    "    lambda pid: f'<a href=\"{base_url}{pid}\" target=\"_blank\">{pid}</a>'\n",
    ")\n",
    "\n",
    "# Display as HTML table\n",
    "HTML(top_10_display.to_html(escape=False, index=False))\n"
   ]
  },
  {
   "cell_type": "code",
   "execution_count": 9,
   "id": "39be7ee5-9886-4e65-9ec6-b1629b81bb3b",
   "metadata": {},
   "outputs": [
    {
     "data": {
      "text/html": [
       "<table border=\"1\" class=\"dataframe\">\n",
       "  <thead>\n",
       "    <tr style=\"text-align: right;\">\n",
       "      <th>paper_id</th>\n",
       "      <th>pagerank</th>\n",
       "      <th>rank</th>\n",
       "      <th>pagerank_scaled</th>\n",
       "    </tr>\n",
       "  </thead>\n",
       "  <tbody>\n",
       "    <tr>\n",
       "      <td><a href=\"https://www.semanticscholar.org/paper/f74ad468130cdb0654086e0d9e603684947968e0\" target=\"_blank\">f74ad468130cdb0654086e0d9e603684947968e0</a></td>\n",
       "      <td>1.390542e-08</td>\n",
       "      <td>37897206</td>\n",
       "      <td>0.01</td>\n",
       "    </tr>\n",
       "    <tr>\n",
       "      <td><a href=\"https://www.semanticscholar.org/paper/ba77b3056c17e51bd1d62257237bf3d4e704e7c4\" target=\"_blank\">ba77b3056c17e51bd1d62257237bf3d4e704e7c4</a></td>\n",
       "      <td>1.446535e-08</td>\n",
       "      <td>28904169</td>\n",
       "      <td>0.01</td>\n",
       "    </tr>\n",
       "    <tr>\n",
       "      <td><a href=\"https://www.semanticscholar.org/paper/2a4a086f8ef1489c692ff80288c93756f3e47fc8\" target=\"_blank\">2a4a086f8ef1489c692ff80288c93756f3e47fc8</a></td>\n",
       "      <td>1.446535e-08</td>\n",
       "      <td>28904169</td>\n",
       "      <td>0.01</td>\n",
       "    </tr>\n",
       "    <tr>\n",
       "      <td><a href=\"https://www.semanticscholar.org/paper/18f043068e819e91ef03d5dc3014f7775b152e0c\" target=\"_blank\">18f043068e819e91ef03d5dc3014f7775b152e0c</a></td>\n",
       "      <td>1.446535e-08</td>\n",
       "      <td>28904169</td>\n",
       "      <td>0.01</td>\n",
       "    </tr>\n",
       "    <tr>\n",
       "      <td><a href=\"https://www.semanticscholar.org/paper/617f8c78bf61fbf4a68ac6be65bb791aa11fd340\" target=\"_blank\">617f8c78bf61fbf4a68ac6be65bb791aa11fd340</a></td>\n",
       "      <td>1.522872e-08</td>\n",
       "      <td>22288202</td>\n",
       "      <td>0.02</td>\n",
       "    </tr>\n",
       "    <tr>\n",
       "      <td><a href=\"https://www.semanticscholar.org/paper/37b084a93d7808e145da6ed0f3ae38adbdb4cbe1\" target=\"_blank\">37b084a93d7808e145da6ed0f3ae38adbdb4cbe1</a></td>\n",
       "      <td>1.375001e-08</td>\n",
       "      <td>41959594</td>\n",
       "      <td>0.01</td>\n",
       "    </tr>\n",
       "    <tr>\n",
       "      <td><a href=\"https://www.semanticscholar.org/paper/bfdb57296045c4915fb46f515960a5e2500df3c9\" target=\"_blank\">bfdb57296045c4915fb46f515960a5e2500df3c9</a></td>\n",
       "      <td>1.375001e-08</td>\n",
       "      <td>41959594</td>\n",
       "      <td>0.01</td>\n",
       "    </tr>\n",
       "    <tr>\n",
       "      <td><a href=\"https://www.semanticscholar.org/paper/4e5f2ada04fbf8aed92ae1cc4bebcb7f803108b2\" target=\"_blank\">4e5f2ada04fbf8aed92ae1cc4bebcb7f803108b2</a></td>\n",
       "      <td>1.410175e-08</td>\n",
       "      <td>34019781</td>\n",
       "      <td>0.01</td>\n",
       "    </tr>\n",
       "    <tr>\n",
       "      <td><a href=\"https://www.semanticscholar.org/paper/a1fcd022d075f97efbb02cca1ab4f17c8f71f464\" target=\"_blank\">a1fcd022d075f97efbb02cca1ab4f17c8f71f464</a></td>\n",
       "      <td>1.405267e-08</td>\n",
       "      <td>34890267</td>\n",
       "      <td>0.01</td>\n",
       "    </tr>\n",
       "    <tr>\n",
       "      <td><a href=\"https://www.semanticscholar.org/paper/0906c3ccc77bee04c9c10d99da76c2870ad38836\" target=\"_blank\">0906c3ccc77bee04c9c10d99da76c2870ad38836</a></td>\n",
       "      <td>1.405267e-08</td>\n",
       "      <td>34890267</td>\n",
       "      <td>0.01</td>\n",
       "    </tr>\n",
       "  </tbody>\n",
       "</table>"
      ],
      "text/plain": [
       "<IPython.core.display.HTML object>"
      ]
     },
     "execution_count": 9,
     "metadata": {},
     "output_type": "execute_result"
    }
   ],
   "source": [
    "# Get bottom 10 papers (i.e., worst rank values)\n",
    "bottom_10 = df[['paper_id','pagerank','rank', 'pagerank_scaled']].tail(10)\n",
    "\n",
    "# Add clickable links\n",
    "base_url = \"https://www.semanticscholar.org/paper/\"\n",
    "bottom_10_display = bottom_10.copy()\n",
    "bottom_10_display['paper_id'] = bottom_10_display['paper_id'].apply(\n",
    "    lambda pid: f'<a href=\"{base_url}{pid}\" target=\"_blank\">{pid}</a>'\n",
    ")\n",
    "\n",
    "# Show table\n",
    "HTML(bottom_10_display.to_html(escape=False, index=False))\n"
   ]
  },
  {
   "cell_type": "code",
   "execution_count": 10,
   "id": "4538059a-44bc-47be-b323-cadf3163bed9",
   "metadata": {},
   "outputs": [
    {
     "data": {
      "image/png": "[encoded data removed]",
      "text/plain": [
       "<Figure size 600x400 with 1 Axes>"
      ]
     },
     "metadata": {},
     "output_type": "display_data"
    }
   ],
   "source": [
    "plt.figure(figsize=(6,4))\n",
    "plt.hist(df['pagerank_scaled'], bins=20, edgecolor='k', alpha=0.7)\n",
    "plt.xlabel('PageRank')\n",
    "plt.ylabel('Number of Papers')\n",
    "plt.title('Distribution of PageRank Scores (scaled)')\n",
    "plt.yscale('log') \n",
    "plt.show()"
   ]
  },
  {
   "cell_type": "code",
   "execution_count": 11,
   "id": "c92bd152-762e-4e8a-ac05-898ea98b96b6",
   "metadata": {},
   "outputs": [],
   "source": [
    "# Turn the strings into Python lists\n",
    "df['fields_list'] = (\n",
    "    df['fields_of_study']\n",
    "    .fillna('')  # fill NaNs with empty string\n",
    "    .str.strip('{}')\n",
    "    .str.split(',')\n",
    "    .apply(lambda L: [x.strip().strip('\"').strip(\"'\") for x in L if x])\n",
    ")\n",
    "# Pick the first element Unknown as a primary field\n",
    "df['primary_field'] = df['fields_list'].apply(lambda L: L[0] if L else 'Unknown')"
   ]
  },
  {
   "cell_type": "code",
   "execution_count": 12,
   "id": "a71952ed-3311-4c81-9b2f-61f06a26dfc9",
   "metadata": {},
   "outputs": [],
   "source": [
    "path3 = '/lustre/b192aa/b192aa36/input/citations.csv'\n",
    "citations_df = pd.read_csv(path3)"
   ]
  },
  {
   "cell_type": "code",
   "execution_count": 13,
   "id": "1ed72a59-b20c-4c2d-ba3e-47e670979e25",
   "metadata": {},
   "outputs": [],
   "source": [
    "citations_df.columns = ['citing_id', 'cited_id']"
   ]
  },
  {
   "cell_type": "code",
   "execution_count": 14,
   "id": "46ff00d2-0033-453e-92dc-4c06451986ed",
   "metadata": {},
   "outputs": [
    {
     "name": "stdout",
     "output_type": "stream",
     "text": [
      "Picked 1500 top PageRank IDs\n",
      "831 of those are actually connected\n"
     ]
    },
    {
     "data": {
      "text/html": [
       "\n",
       "        <iframe\n",
       "            width=\"100%\"\n",
       "            height=\"800px\"\n",
       "            src=\"top1500_pagerank_connected.html\"\n",
       "            frameborder=\"0\"\n",
       "            allowfullscreen\n",
       "            \n",
       "        ></iframe>\n",
       "        "
      ],
      "text/plain": [
       "<IPython.lib.display.IFrame at 0x1521233eddc0>"
      ]
     },
     "metadata": {},
     "output_type": "display_data"
    }
   ],
   "source": [
    "# Pick top 1500 by pagerank_scaled\n",
    "top_1500_pagerank = df.sort_values('pagerank_scaled', ascending=False).head(1500)\n",
    "top_ids = set(top_1500_pagerank['paper_id'])\n",
    "print(f\"Picked {len(top_ids)} top PageRank IDs\")\n",
    "\n",
    "# Filter edges to citations among those top papers\n",
    "sub_edges = citations_df[\n",
    "    citations_df['citing_id'].isin(top_ids) &\n",
    "    citations_df['cited_id'].isin(top_ids)\n",
    "].copy()\n",
    "\n",
    "# Identify which top_ids actually appear in edges\n",
    "connected_ids = set(sub_edges['citing_id']).union(sub_edges['cited_id'])\n",
    "print(f\"{len(connected_ids)} of those are actually connected\")\n",
    "\n",
    "# Build directed graph\n",
    "G_small = nx.from_pandas_edgelist(\n",
    "    sub_edges,\n",
    "    source='citing_id',\n",
    "    target='cited_id',\n",
    "    create_using=nx.DiGraph()\n",
    ")\n",
    "\n",
    "# Prepare color mapping by field\n",
    "field_map = df.set_index('paper_id')['primary_field'].to_dict()\n",
    "fields = sorted({field_map.get(n, 'Unknown') for n in connected_ids})\n",
    "cmap = plt.get_cmap('tab20')\n",
    "field2color = {\n",
    "    fld: \"#{:02x}{:02x}{:02x}\".format(\n",
    "        *(int(255 * c) for c in cmap(i / len(fields))[:3])\n",
    "    ) for i, fld in enumerate(fields)\n",
    "}\n",
    "\n",
    "# Map pagerank_scaled for connected nodes and apply log scaling\n",
    "pagerank_map = df.set_index('paper_id')['pagerank_scaled'].to_dict()\n",
    "pr_scores = np.array([pagerank_map.get(n, 0) for n in G_small.nodes()])\n",
    "\n",
    "# Add small epsilon to avoid log(0)\n",
    "epsilon = 1e-6\n",
    "log_pr = np.log(pr_scores + epsilon)\n",
    "\n",
    "min_log, max_log = log_pr.min(), log_pr.max()\n",
    "\n",
    "if max_log > min_log:\n",
    "    pr_norm = (log_pr - min_log) / (max_log - min_log)\n",
    "else:\n",
    "    pr_norm = np.ones_like(log_pr) * 0.5  # fallback if no variation\n",
    "\n",
    "# Increase size range for better visual contrast\n",
    "min_size, max_size = 20, 100\n",
    "scaled_sizes = min_size + (max_size - min_size) * pr_norm\n",
    "node_sizes = dict(zip(G_small.nodes(), scaled_sizes))\n",
    "\n",
    "# Build PyVis network\n",
    "net = Network(height='800px', width='100%', directed=True)\n",
    "\n",
    "for n in G_small.nodes():\n",
    "    fld = field_map.get(n, 'Unknown')\n",
    "    pr_score = pagerank_map.get(n, 0)\n",
    "    size = node_sizes.get(n, min_size)\n",
    "    net.add_node(\n",
    "        n,\n",
    "        label=str(n),\n",
    "        title=f\"ID: {n} Field: {fld} PageRank: {pr_score:.6f}\",\n",
    "        color=field2color[fld],\n",
    "        size=size\n",
    "    )\n",
    "\n",
    "for u, v in G_small.edges():\n",
    "    net.add_edge(u, v)\n",
    "\n",
    "# Export and display\n",
    "net.write_html(\"top1500_pagerank_connected.html\")\n",
    "display(IFrame(src=\"top1500_pagerank_connected.html\", width=\"100%\", height=\"800px\"))\n"
   ]
  },
  {
   "cell_type": "code",
   "execution_count": 15,
   "id": "b08e0fb3-6026-4e61-8c2e-6cecf4027307",
   "metadata": {},
   "outputs": [
    {
     "data": {
      "image/png": "[encoded data removed]",
      "text/plain": [
       "<Figure size 1000x600 with 1 Axes>"
      ]
     },
     "metadata": {},
     "output_type": "display_data"
    }
   ],
   "source": [
    "summary = (\n",
    "    df\n",
    "    .groupby('fields_of_study', sort=False)\n",
    "    .agg(\n",
    "        total_pagerank_scaled=('pagerank_scaled', 'sum'),\n",
    "        avg_pagerank_scaled=('pagerank_scaled', 'mean'),\n",
    "        paper_count=('paper_id', 'count')\n",
    "    )\n",
    "    .sort_values('total_pagerank_scaled', ascending=False)\n",
    "    .reset_index()\n",
    ")\n",
    "\n",
    "# === Plot ===\n",
    "top_n = summary.head(10)\n",
    "\n",
    "plt.figure(figsize=(10, 6))\n",
    "plt.barh(top_n['fields_of_study'], top_n['total_pagerank_scaled'], color='lightgreen')\n",
    "plt.xlabel(\"Total Scaled PageRank\")\n",
    "plt.title(\"Top 10 Field by Total Scaled PageRank\")\n",
    "plt.gca().invert_yaxis()\n",
    "plt.grid(True, axis='x')\n",
    "plt.tight_layout()\n",
    "plt.show()"
   ]
  },
  {
   "cell_type": "code",
   "execution_count": 18,
   "id": "b30398fc-dcd9-42c9-be67-50e26ac2ee56",
   "metadata": {},
   "outputs": [
    {
     "name": "stdout",
     "output_type": "stream",
     "text": [
      "🔹 High PageRank, Low Citations:\n"
     ]
    },
    {
     "data": {
      "text/html": [
       "<table border=\"1\" class=\"dataframe\">\n",
       "  <thead>\n",
       "    <tr style=\"text-align: right;\">\n",
       "      <th>paper_id</th>\n",
       "      <th>pagerank_scaled</th>\n",
       "      <th>citation_count</th>\n",
       "      <th>rank</th>\n",
       "    </tr>\n",
       "  </thead>\n",
       "  <tbody>\n",
       "    <tr>\n",
       "      <td><a href=\"https://www.semanticscholar.org/paper/d97b6883d73a03d92e2c6c7de758022b5d72ea27\" target=\"_blank\">d97b6883d73a03d92e2c6c7de758022b5d72ea27</a></td>\n",
       "      <td>0.03</td>\n",
       "      <td>1</td>\n",
       "      <td>3101209</td>\n",
       "    </tr>\n",
       "    <tr>\n",
       "      <td><a href=\"https://www.semanticscholar.org/paper/b53340f87681878d5678b2f234a70514d77c10d9\" target=\"_blank\">b53340f87681878d5678b2f234a70514d77c10d9</a></td>\n",
       "      <td>0.03</td>\n",
       "      <td>1</td>\n",
       "      <td>4368375</td>\n",
       "    </tr>\n",
       "    <tr>\n",
       "      <td><a href=\"https://www.semanticscholar.org/paper/5352d99128ba218f028a724caebb8796c45c74a6\" target=\"_blank\">5352d99128ba218f028a724caebb8796c45c74a6</a></td>\n",
       "      <td>0.03</td>\n",
       "      <td>1</td>\n",
       "      <td>4994686</td>\n",
       "    </tr>\n",
       "    <tr>\n",
       "      <td><a href=\"https://www.semanticscholar.org/paper/26d548fe032d52e7c4676f3705c48dad7ede9cdd\" target=\"_blank\">26d548fe032d52e7c4676f3705c48dad7ede9cdd</a></td>\n",
       "      <td>0.03</td>\n",
       "      <td>1</td>\n",
       "      <td>4030401</td>\n",
       "    </tr>\n",
       "    <tr>\n",
       "      <td><a href=\"https://www.semanticscholar.org/paper/7d878501c8f7e4c41bbbf94c7d427a2574a48d18\" target=\"_blank\">7d878501c8f7e4c41bbbf94c7d427a2574a48d18</a></td>\n",
       "      <td>0.03</td>\n",
       "      <td>1</td>\n",
       "      <td>4650363</td>\n",
       "    </tr>\n",
       "    <tr>\n",
       "      <td><a href=\"https://www.semanticscholar.org/paper/42a29340e7e2a8711cd2c0ebdcc7dcba2fc646b2\" target=\"_blank\">42a29340e7e2a8711cd2c0ebdcc7dcba2fc646b2</a></td>\n",
       "      <td>0.03</td>\n",
       "      <td>1</td>\n",
       "      <td>4768493</td>\n",
       "    </tr>\n",
       "    <tr>\n",
       "      <td><a href=\"https://www.semanticscholar.org/paper/98be2e66e9b21979d24c37d7ffb972cbf1a07eac\" target=\"_blank\">98be2e66e9b21979d24c37d7ffb972cbf1a07eac</a></td>\n",
       "      <td>0.03</td>\n",
       "      <td>1</td>\n",
       "      <td>3014994</td>\n",
       "    </tr>\n",
       "    <tr>\n",
       "      <td><a href=\"https://www.semanticscholar.org/paper/62b3a85b230a9be376b89861e6524e6cd3fc73ad\" target=\"_blank\">62b3a85b230a9be376b89861e6524e6cd3fc73ad</a></td>\n",
       "      <td>0.10</td>\n",
       "      <td>1</td>\n",
       "      <td>410339</td>\n",
       "    </tr>\n",
       "    <tr>\n",
       "      <td><a href=\"https://www.semanticscholar.org/paper/8443ffecdcfb89195a023ddf8bcd328b040771fe\" target=\"_blank\">8443ffecdcfb89195a023ddf8bcd328b040771fe</a></td>\n",
       "      <td>0.03</td>\n",
       "      <td>1</td>\n",
       "      <td>5067662</td>\n",
       "    </tr>\n",
       "    <tr>\n",
       "      <td><a href=\"https://www.semanticscholar.org/paper/47363080e5664f1aabf9d7e585db830c8456c455\" target=\"_blank\">47363080e5664f1aabf9d7e585db830c8456c455</a></td>\n",
       "      <td>0.03</td>\n",
       "      <td>1</td>\n",
       "      <td>4443381</td>\n",
       "    </tr>\n",
       "  </tbody>\n",
       "</table>"
      ],
      "text/plain": [
       "<IPython.core.display.HTML object>"
      ]
     },
     "metadata": {},
     "output_type": "display_data"
    },
    {
     "name": "stdout",
     "output_type": "stream",
     "text": [
      "🔸 Low PageRank, High Citations:\n"
     ]
    },
    {
     "data": {
      "text/html": [
       "<table border=\"1\" class=\"dataframe\">\n",
       "  <thead>\n",
       "    <tr style=\"text-align: right;\">\n",
       "      <th>paper_id</th>\n",
       "      <th>pagerank_scaled</th>\n",
       "      <th>citation_count</th>\n",
       "      <th>rank</th>\n",
       "    </tr>\n",
       "  </thead>\n",
       "  <tbody>\n",
       "    <tr>\n",
       "      <td><a href=\"https://www.semanticscholar.org/paper/3aca07bbdbefa484bfd480546cffac1c4b9a6afc\" target=\"_blank\">3aca07bbdbefa484bfd480546cffac1c4b9a6afc</a></td>\n",
       "      <td>0.01</td>\n",
       "      <td>31</td>\n",
       "      <td>25910383</td>\n",
       "    </tr>\n",
       "    <tr>\n",
       "      <td><a href=\"https://www.semanticscholar.org/paper/575aa9a54e9fd83e56d1a25f11fff272aaa62b65\" target=\"_blank\">575aa9a54e9fd83e56d1a25f11fff272aaa62b65</a></td>\n",
       "      <td>0.01</td>\n",
       "      <td>24</td>\n",
       "      <td>26752388</td>\n",
       "    </tr>\n",
       "    <tr>\n",
       "      <td><a href=\"https://www.semanticscholar.org/paper/02108019afa7e9d0a16f5b0a394e580904e3abae\" target=\"_blank\">02108019afa7e9d0a16f5b0a394e580904e3abae</a></td>\n",
       "      <td>0.01</td>\n",
       "      <td>25</td>\n",
       "      <td>29678967</td>\n",
       "    </tr>\n",
       "    <tr>\n",
       "      <td><a href=\"https://www.semanticscholar.org/paper/54fb7e369e1cbafb1983b0d0df23b049b7a46f1c\" target=\"_blank\">54fb7e369e1cbafb1983b0d0df23b049b7a46f1c</a></td>\n",
       "      <td>0.01</td>\n",
       "      <td>23</td>\n",
       "      <td>24185873</td>\n",
       "    </tr>\n",
       "    <tr>\n",
       "      <td><a href=\"https://www.semanticscholar.org/paper/0a1e709d93058ce80aa495dbe294d729191f9f92\" target=\"_blank\">0a1e709d93058ce80aa495dbe294d729191f9f92</a></td>\n",
       "      <td>0.01</td>\n",
       "      <td>22</td>\n",
       "      <td>31970350</td>\n",
       "    </tr>\n",
       "    <tr>\n",
       "      <td><a href=\"https://www.semanticscholar.org/paper/76f59e2dd18428809ae8f6261af3581347d0e484\" target=\"_blank\">76f59e2dd18428809ae8f6261af3581347d0e484</a></td>\n",
       "      <td>0.01</td>\n",
       "      <td>26</td>\n",
       "      <td>25020784</td>\n",
       "    </tr>\n",
       "    <tr>\n",
       "      <td><a href=\"https://www.semanticscholar.org/paper/bec4db67335b6971963c3aff93b64287cb19f528\" target=\"_blank\">bec4db67335b6971963c3aff93b64287cb19f528</a></td>\n",
       "      <td>0.01</td>\n",
       "      <td>24</td>\n",
       "      <td>29950467</td>\n",
       "    </tr>\n",
       "    <tr>\n",
       "      <td><a href=\"https://www.semanticscholar.org/paper/7a7841c9762bacd14f63479d8296eea85d94b9a3\" target=\"_blank\">7a7841c9762bacd14f63479d8296eea85d94b9a3</a></td>\n",
       "      <td>0.01</td>\n",
       "      <td>26</td>\n",
       "      <td>30674111</td>\n",
       "    </tr>\n",
       "    <tr>\n",
       "      <td><a href=\"https://www.semanticscholar.org/paper/23caee090f5043fd49f4fdcc90ab69b6ba554de6\" target=\"_blank\">23caee090f5043fd49f4fdcc90ab69b6ba554de6</a></td>\n",
       "      <td>0.01</td>\n",
       "      <td>23</td>\n",
       "      <td>33636675</td>\n",
       "    </tr>\n",
       "    <tr>\n",
       "      <td><a href=\"https://www.semanticscholar.org/paper/3e173020e48d3d942e26bd66d2546aaec4e5ff6a\" target=\"_blank\">3e173020e48d3d942e26bd66d2546aaec4e5ff6a</a></td>\n",
       "      <td>0.01</td>\n",
       "      <td>22</td>\n",
       "      <td>35728562</td>\n",
       "    </tr>\n",
       "  </tbody>\n",
       "</table>"
      ],
      "text/plain": [
       "<IPython.core.display.HTML object>"
      ]
     },
     "metadata": {},
     "output_type": "display_data"
    }
   ],
   "source": [
    "# Ensure IDs are string and trimmed for exact matching\n",
    "citations_df['cited_id'] = citations_df['cited_id'].astype(str).str.strip()\n",
    "df['paper_id'] = df['paper_id'].astype(str).str.strip()\n",
    "\n",
    "base_url = \"https://www.semanticscholar.org/paper/\"\n",
    "\n",
    "citation_counts = citations_df['cited_id'].value_counts().rename('citation_count')\n",
    "\n",
    "df_with_citations = df.merge(citation_counts, how='left', left_on='paper_id', right_index=True)\n",
    "df_with_citations['citation_count'] = df_with_citations['citation_count'].fillna(0).astype(int)\n",
    "\n",
    "# Normalize values between 0 and 1\n",
    "df_with_citations['pagerank_norm'] = (\n",
    "    (df_with_citations['pagerank_scaled'] - df_with_citations['pagerank_scaled'].min())\n",
    "    / (df_with_citations['pagerank_scaled'].max() - df_with_citations['pagerank_scaled'].min())\n",
    ")\n",
    "\n",
    "df_with_citations['citations_norm'] = (\n",
    "    (df_with_citations['citation_count'] - df_with_citations['citation_count'].min())\n",
    "    / (df_with_citations['citation_count'].max() - df_with_citations['citation_count'].min())\n",
    ")\n",
    "\n",
    "# Thresholds\n",
    "high_pr_thresh = df_with_citations['pagerank_norm'].quantile(0.90)\n",
    "low_cit_thresh = df_with_citations['citations_norm'].quantile(0.10)\n",
    "\n",
    "low_pr_thresh = df_with_citations['pagerank_norm'].quantile(0.10)\n",
    "high_cit_thresh = df_with_citations['citations_norm'].quantile(0.90)\n",
    "\n",
    "# 1. High PageRank, Low Citations\n",
    "high_pr_low_cit = df_with_citations[\n",
    "    (df_with_citations['pagerank_norm'] >= high_pr_thresh) &\n",
    "    (df_with_citations['citations_norm'] <= low_cit_thresh)\n",
    "]\n",
    "\n",
    "# 2. Low PageRank, High Citations\n",
    "low_pr_high_cit = df_with_citations[\n",
    "    (df_with_citations['pagerank_norm'] <= low_pr_thresh) &\n",
    "    (df_with_citations['citations_norm'] >= high_cit_thresh)\n",
    "]\n",
    "\n",
    "# 1. Prepare High PageRank, Low Citations table\n",
    "high_pr_low_cit_display = high_pr_low_cit[['paper_id', 'pagerank_scaled', 'citation_count', 'rank']].head(10).copy()\n",
    "high_pr_low_cit_display['paper_id'] = high_pr_low_cit_display['paper_id'].apply(\n",
    "    lambda pid: f'<a href=\"{base_url}{pid}\" target=\"_blank\">{pid}</a>'\n",
    ")\n",
    "\n",
    "# 2. Prepare Low PageRank, High Citations table\n",
    "low_pr_high_cit_display = low_pr_high_cit[['paper_id', 'pagerank_scaled', 'citation_count', 'rank']].head(10).copy()\n",
    "low_pr_high_cit_display['paper_id'] = low_pr_high_cit_display['paper_id'].apply(\n",
    "    lambda pid: f'<a href=\"{base_url}{pid}\" target=\"_blank\">{pid}</a>'\n",
    ")\n",
    "\n",
    "# Display both\n",
    "print(\"🔹 High PageRank, Low Citations:\")\n",
    "display(HTML(high_pr_low_cit_display.to_html(escape=False, index=False)))\n",
    "\n",
    "print(\"🔸 Low PageRank, High Citations:\")\n",
    "display(HTML(low_pr_high_cit_display.to_html(escape=False, index=False)))"
   ]
  },
  {
   "cell_type": "markdown",
   "id": "3285bb0a-9d5a-4133-b359-c15f806ad778",
   "metadata": {},
   "source": [
    "## Professors"
   ]
  },
  {
   "cell_type": "code",
   "execution_count": 7,
   "id": "14aa0a3d-7a34-4771-b392-41dd1aedcec8",
   "metadata": {},
   "outputs": [
    {
     "data": {
      "application/vnd.microsoft.datawrangler.viewer.v0+json": {
       "columns": [
        {
         "name": "index",
         "rawType": "int64",
         "type": "integer"
        },
        {
         "name": "authorId",
         "rawType": "object",
         "type": "string"
        },
        {
         "name": "authorName",
         "rawType": "object",
         "type": "string"
        },
        {
         "name": "paperId",
         "rawType": "object",
         "type": "string"
        },
        {
         "name": "title",
         "rawType": "object",
         "type": "string"
        },
        {
         "name": "fieldsOfStudy",
         "rawType": "object",
         "type": "unknown"
        },
        {
         "name": "pagerank_scaled",
         "rawType": "float64",
         "type": "float"
        }
       ],
       "ref": "c13137d4-65ca-4ab9-8b66-b9bb54de7838",
       "rows": [
        [
         "0",
         "50706060",
         "M. Oliver",
         "077fba5d29c3c1ad0057c5f508dd7bad4a60d8aa",
         "On the Relation between Fourier and Walsh--Rademacher Spectra for Isotropic Random Fields",
         null,
         "0.01"
        ],
        [
         "1",
         "50706060",
         "M. Oliver",
         "15ceedba62972fa35ec93940e2922dc400b36b5a",
         "Quasi-convergence of an implementation of optimal balance by backward-forward nudging",
         "['Computer Science', 'Mathematics']",
         "0.01"
        ],
        [
         "2",
         "50706060",
         "M. Oliver",
         "0330e08894fae75efc6509970d2a8e97fa0b2ef6",
         "Variational balance models for the three-dimensional Euler–Boussinesq equations with full Coriolis force",
         "['Mathematics', 'Physics']",
         "0.01"
        ],
        [
         "3",
         "50706060",
         "M. Oliver",
         "1e784a83dafbef2d7d4467303df949694467da1e",
         "High-order uniformly accurate time integrators for semilinear wave equations of Klein-Gordon type in the non-relativistic limit",
         "['Physics', 'Computer Science', 'Mathematics']",
         "0.01"
        ],
        [
         "4",
         "50706060",
         "M. Oliver",
         "59c113fcd23630bfc3233c597ab3f782bf9591dd",
         "Optimal balance for rotating shallow water in primitive variables",
         "['Mathematics']",
         "0.01"
        ]
       ],
       "shape": {
        "columns": 6,
        "rows": 5
       }
      },
      "text/html": [
       "<div>\n",
       "<style scoped>\n",
       "    .dataframe tbody tr th:only-of-type {\n",
       "        vertical-align: middle;\n",
       "    }\n",
       "\n",
       "    .dataframe tbody tr th {\n",
       "        vertical-align: top;\n",
       "    }\n",
       "\n",
       "    .dataframe thead th {\n",
       "        text-align: right;\n",
       "    }\n",
       "</style>\n",
       "<table border=\"1\" class=\"dataframe\">\n",
       "  <thead>\n",
       "    <tr style=\"text-align: right;\">\n",
       "      <th></th>\n",
       "      <th>authorId</th>\n",
       "      <th>authorName</th>\n",
       "      <th>paperId</th>\n",
       "      <th>title</th>\n",
       "      <th>fieldsOfStudy</th>\n",
       "      <th>pagerank_scaled</th>\n",
       "    </tr>\n",
       "  </thead>\n",
       "  <tbody>\n",
       "    <tr>\n",
       "      <th>0</th>\n",
       "      <td>50706060</td>\n",
       "      <td>M. Oliver</td>\n",
       "      <td>077fba5d29c3c1ad0057c5f508dd7bad4a60d8aa</td>\n",
       "      <td>On the Relation between Fourier and Walsh--Rad...</td>\n",
       "      <td>NaN</td>\n",
       "      <td>0.01</td>\n",
       "    </tr>\n",
       "    <tr>\n",
       "      <th>1</th>\n",
       "      <td>50706060</td>\n",
       "      <td>M. Oliver</td>\n",
       "      <td>15ceedba62972fa35ec93940e2922dc400b36b5a</td>\n",
       "      <td>Quasi-convergence of an implementation of opti...</td>\n",
       "      <td>['Computer Science', 'Mathematics']</td>\n",
       "      <td>0.01</td>\n",
       "    </tr>\n",
       "    <tr>\n",
       "      <th>2</th>\n",
       "      <td>50706060</td>\n",
       "      <td>M. Oliver</td>\n",
       "      <td>0330e08894fae75efc6509970d2a8e97fa0b2ef6</td>\n",
       "      <td>Variational balance models for the three-dimen...</td>\n",
       "      <td>['Mathematics', 'Physics']</td>\n",
       "      <td>0.01</td>\n",
       "    </tr>\n",
       "    <tr>\n",
       "      <th>3</th>\n",
       "      <td>50706060</td>\n",
       "      <td>M. Oliver</td>\n",
       "      <td>1e784a83dafbef2d7d4467303df949694467da1e</td>\n",
       "      <td>High-order uniformly accurate time integrators...</td>\n",
       "      <td>['Physics', 'Computer Science', 'Mathematics']</td>\n",
       "      <td>0.01</td>\n",
       "    </tr>\n",
       "    <tr>\n",
       "      <th>4</th>\n",
       "      <td>50706060</td>\n",
       "      <td>M. Oliver</td>\n",
       "      <td>59c113fcd23630bfc3233c597ab3f782bf9591dd</td>\n",
       "      <td>Optimal balance for rotating shallow water in ...</td>\n",
       "      <td>['Mathematics']</td>\n",
       "      <td>0.01</td>\n",
       "    </tr>\n",
       "  </tbody>\n",
       "</table>\n",
       "</div>"
      ],
      "text/plain": [
       "   authorId authorName                                   paperId  \\\n",
       "0  50706060  M. Oliver  077fba5d29c3c1ad0057c5f508dd7bad4a60d8aa   \n",
       "1  50706060  M. Oliver  15ceedba62972fa35ec93940e2922dc400b36b5a   \n",
       "2  50706060  M. Oliver  0330e08894fae75efc6509970d2a8e97fa0b2ef6   \n",
       "3  50706060  M. Oliver  1e784a83dafbef2d7d4467303df949694467da1e   \n",
       "4  50706060  M. Oliver  59c113fcd23630bfc3233c597ab3f782bf9591dd   \n",
       "\n",
       "                                               title  \\\n",
       "0  On the Relation between Fourier and Walsh--Rad...   \n",
       "1  Quasi-convergence of an implementation of opti...   \n",
       "2  Variational balance models for the three-dimen...   \n",
       "3  High-order uniformly accurate time integrators...   \n",
       "4  Optimal balance for rotating shallow water in ...   \n",
       "\n",
       "                                    fieldsOfStudy  pagerank_scaled  \n",
       "0                                             NaN             0.01  \n",
       "1             ['Computer Science', 'Mathematics']             0.01  \n",
       "2                      ['Mathematics', 'Physics']             0.01  \n",
       "3  ['Physics', 'Computer Science', 'Mathematics']             0.01  \n",
       "4                                 ['Mathematics']             0.01  "
      ]
     },
     "execution_count": 7,
     "metadata": {},
     "output_type": "execute_result"
    }
   ],
   "source": [
    "# Merge based on matching paper IDs\n",
    "professor_papers = professors_df.merge(\n",
    "    df[['paper_id', 'pagerank_scaled']],     # keep only needed columns\n",
    "    left_on='paperId',\n",
    "    right_on='paper_id',\n",
    "    how='inner'  # only keep matches\n",
    ")\n",
    "\n",
    "# Optional: drop duplicate 'paper_id' column if not needed\n",
    "professor_papers = professor_papers.drop(columns=['paper_id'])\n",
    "\n",
    "# Preview\n",
    "professor_papers.head()"
   ]
  },
  {
   "cell_type": "code",
   "execution_count": 8,
   "id": "8b7dc497-09cf-4751-afd5-a8efe4881f70",
   "metadata": {},
   "outputs": [
    {
     "name": "stdout",
     "output_type": "stream",
     "text": [
      "          authorName                                              title  \\\n",
      "53         M. Oliver  Analyticity of Solutions for a Generalized Eul...   \n",
      "143        T. Janjić  Survey of data assimilation methods for convec...   \n",
      "56         M. Oliver  Length scales in solutions of the complex Ginz...   \n",
      "57         M. Oliver  Global well-posedness for models of shallow wa...   \n",
      "251           N. Ray                           Microaggregates in soils   \n",
      "202       G. Pfander                  Gabor Frames in Finite Dimensions   \n",
      "224       G. Pfander        Measurement of Time-Variant Linear Channels   \n",
      "226       G. Pfander  Identification of Operators with Bandlimited S...   \n",
      "50         M. Oliver  THE VORTEX BLOB METHOD AS A SECOND-GRADE NON-N...   \n",
      "222       G. Pfander         Sparsity in Time-Frequency Representations   \n",
      "216       G. Pfander  Identification of Matrices Having a Sparse Rep...   \n",
      "169        T. Janjić  Treatment of Observation Error due to Unresolv...   \n",
      "146        T. Janjić   On the representation error in data assimilation   \n",
      "89   F. Voigtlaender  Topological Properties of the Set of Functions...   \n",
      "47         M. Oliver  Remark on the Rate of Decay of Higher Order De...   \n",
      "58         M. Oliver       Global well-posedness for the lake equations   \n",
      "45         M. Oliver  On the Domain of Analyticity for Solutions of ...   \n",
      "225       G. Pfander  Linear Independence of Gabor Systems in Finite...   \n",
      "223       G. Pfander             Frame expansions for Gabor multipliers   \n",
      "132        T. Janjić  Assimilating radar radial wind and reflectivit...   \n",
      "221       G. Pfander  Operator identification and Feichtinger’s algebra   \n",
      "137        T. Janjić  Combined State-Parameter Estimation with the L...   \n",
      "130        T. Janjić  Effect of COVID-19 pandemic lockdowns on plann...   \n",
      "120        T. Janjić  Machine Learning With Data Assimilation and Un...   \n",
      "227       G. Pfander  Note on B-splines, wavelet scaling functions, ...   \n",
      "94   F. Voigtlaender                 Embeddings of Decomposition Spaces   \n",
      "259           N. Ray  Drug release from collagen matrices including ...   \n",
      "85   F. Voigtlaender  Time-Frequency Shift Invariance of Gabor Space...   \n",
      "258           N. Ray  Upscaling the Flow and Transport in an Evolvin...   \n",
      "255           N. Ray  Strong solvability up to clogging of an effect...   \n",
      "\n",
      "     pagerank_scaled  \n",
      "53              0.05  \n",
      "143             0.03  \n",
      "56              0.03  \n",
      "57              0.03  \n",
      "251             0.03  \n",
      "202             0.03  \n",
      "224             0.03  \n",
      "226             0.03  \n",
      "50              0.03  \n",
      "222             0.03  \n",
      "216             0.03  \n",
      "169             0.03  \n",
      "146             0.03  \n",
      "89              0.03  \n",
      "47              0.03  \n",
      "58              0.03  \n",
      "45              0.03  \n",
      "225             0.03  \n",
      "223             0.02  \n",
      "132             0.02  \n",
      "221             0.02  \n",
      "137             0.02  \n",
      "130             0.02  \n",
      "120             0.02  \n",
      "227             0.02  \n",
      "94              0.02  \n",
      "259             0.02  \n",
      "85              0.02  \n",
      "258             0.02  \n",
      "255             0.02  \n"
     ]
    }
   ],
   "source": [
    "top_papers = (\n",
    "    professor_papers\n",
    "    .sort_values('pagerank_scaled', ascending=False)\n",
    "    .head(30)\n",
    ")\n",
    "\n",
    "print(top_papers[['authorName', 'title', 'pagerank_scaled']])"
   ]
  },
  {
   "cell_type": "code",
   "execution_count": 9,
   "id": "bb6965ad-6923-4672-8f5a-a3ed04072624",
   "metadata": {},
   "outputs": [],
   "source": [
    "prof_rank_summary = (\n",
    "    professor_papers\n",
    "    .groupby('authorName')\n",
    "    .agg(\n",
    "        pagerank_mean=('pagerank_scaled', 'mean'),\n",
    "        pagerank_sum=('pagerank_scaled', 'sum')\n",
    "    )\n",
    "    .reset_index()\n",
    "    .sort_values('pagerank_mean', ascending=False)\n",
    ")"
   ]
  },
  {
   "cell_type": "code",
   "execution_count": 12,
   "id": "a7f0fd22-348f-43ca-a53d-e945532a4bfb",
   "metadata": {},
   "outputs": [
    {
     "data": {
      "application/vnd.microsoft.datawrangler.viewer.v0+json": {
       "columns": [
        {
         "name": "index",
         "rawType": "int64",
         "type": "integer"
        },
        {
         "name": "Professor",
         "rawType": "object",
         "type": "string"
        },
        {
         "name": "Total PageRank",
         "rawType": "float64",
         "type": "float"
        },
        {
         "name": "Rank",
         "rawType": "int64",
         "type": "integer"
        }
       ],
       "ref": "3468e8b7-6954-4e78-96d8-ca8c66574a2f",
       "rows": [
        [
         "3",
         "M. Oliver",
         "0.98",
         "1"
        ],
        [
         "2",
         "G. Pfander",
         "0.96",
         "2"
        ],
        [
         "6",
         "T. Janjić",
         "0.82",
         "3"
        ],
        [
         "1",
         "F. Voigtlaender",
         "0.5",
         "4"
        ],
        [
         "4",
         "N. Ray",
         "0.43",
         "5"
        ],
        [
         "7",
         "Thomas Setzer",
         "0.37",
         "6"
        ],
        [
         "5",
         "P. Fontaine",
         "0.25",
         "7"
        ],
        [
         "0",
         "Dominik Stöger",
         "0.22",
         "8"
        ]
       ],
       "shape": {
        "columns": 3,
        "rows": 8
       }
      },
      "text/html": [
       "<div>\n",
       "<style scoped>\n",
       "    .dataframe tbody tr th:only-of-type {\n",
       "        vertical-align: middle;\n",
       "    }\n",
       "\n",
       "    .dataframe tbody tr th {\n",
       "        vertical-align: top;\n",
       "    }\n",
       "\n",
       "    .dataframe thead th {\n",
       "        text-align: right;\n",
       "    }\n",
       "</style>\n",
       "<table border=\"1\" class=\"dataframe\">\n",
       "  <thead>\n",
       "    <tr style=\"text-align: right;\">\n",
       "      <th></th>\n",
       "      <th>Professor</th>\n",
       "      <th>Total PageRank</th>\n",
       "      <th>Rank</th>\n",
       "    </tr>\n",
       "  </thead>\n",
       "  <tbody>\n",
       "    <tr>\n",
       "      <th>3</th>\n",
       "      <td>M. Oliver</td>\n",
       "      <td>0.98</td>\n",
       "      <td>1</td>\n",
       "    </tr>\n",
       "    <tr>\n",
       "      <th>2</th>\n",
       "      <td>G. Pfander</td>\n",
       "      <td>0.96</td>\n",
       "      <td>2</td>\n",
       "    </tr>\n",
       "    <tr>\n",
       "      <th>6</th>\n",
       "      <td>T. Janjić</td>\n",
       "      <td>0.82</td>\n",
       "      <td>3</td>\n",
       "    </tr>\n",
       "    <tr>\n",
       "      <th>1</th>\n",
       "      <td>F. Voigtlaender</td>\n",
       "      <td>0.50</td>\n",
       "      <td>4</td>\n",
       "    </tr>\n",
       "    <tr>\n",
       "      <th>4</th>\n",
       "      <td>N. Ray</td>\n",
       "      <td>0.43</td>\n",
       "      <td>5</td>\n",
       "    </tr>\n",
       "    <tr>\n",
       "      <th>7</th>\n",
       "      <td>Thomas Setzer</td>\n",
       "      <td>0.37</td>\n",
       "      <td>6</td>\n",
       "    </tr>\n",
       "    <tr>\n",
       "      <th>5</th>\n",
       "      <td>P. Fontaine</td>\n",
       "      <td>0.25</td>\n",
       "      <td>7</td>\n",
       "    </tr>\n",
       "    <tr>\n",
       "      <th>0</th>\n",
       "      <td>Dominik Stöger</td>\n",
       "      <td>0.22</td>\n",
       "      <td>8</td>\n",
       "    </tr>\n",
       "  </tbody>\n",
       "</table>\n",
       "</div>"
      ],
      "text/plain": [
       "         Professor  Total PageRank  Rank\n",
       "3        M. Oliver            0.98     1\n",
       "2       G. Pfander            0.96     2\n",
       "6        T. Janjić            0.82     3\n",
       "1  F. Voigtlaender            0.50     4\n",
       "4           N. Ray            0.43     5\n",
       "7    Thomas Setzer            0.37     6\n",
       "5      P. Fontaine            0.25     7\n",
       "0   Dominik Stöger            0.22     8"
      ]
     },
     "metadata": {},
     "output_type": "display_data"
    }
   ],
   "source": [
    "prof_rank_summary_sum = (\n",
    "    prof_rank_summary[['authorName', 'pagerank_sum']]\n",
    "    .copy()\n",
    "    .rename(columns={'authorName': 'Professor', 'pagerank_sum': 'Total PageRank'})\n",
    ")\n",
    "prof_rank_summary_sum['Total PageRank'] = prof_rank_summary_sum['Total PageRank'].round(2)\n",
    "prof_rank_summary_sum['Rank'] = prof_rank_summary_sum['Total PageRank'].rank(method='dense', ascending=False).astype(int)\n",
    "\n",
    "display(prof_rank_summary_sum.sort_values('Rank').head(10))"
   ]
  },
  {
   "cell_type": "code",
   "execution_count": 14,
   "id": "90f59f44-bb8e-4ecb-b682-3c53befc20f5",
   "metadata": {},
   "outputs": [
    {
     "data": {
      "application/vnd.microsoft.datawrangler.viewer.v0+json": {
       "columns": [
        {
         "name": "index",
         "rawType": "int64",
         "type": "integer"
        },
        {
         "name": "Professor",
         "rawType": "object",
         "type": "string"
        },
        {
         "name": "PageRank Mean",
         "rawType": "float64",
         "type": "float"
        },
        {
         "name": "Rank",
         "rawType": "int64",
         "type": "integer"
        }
       ],
       "ref": "ef26ca3a-7761-45ee-9736-dd638e7710a6",
       "rows": [
        [
         "3",
         "M. Oliver",
         "0.0163",
         "1"
        ],
        [
         "6",
         "T. Janjić",
         "0.0158",
         "2"
        ],
        [
         "2",
         "G. Pfander",
         "0.0157",
         "3"
        ],
        [
         "0",
         "Dominik Stöger",
         "0.0138",
         "4"
        ],
        [
         "4",
         "N. Ray",
         "0.0134",
         "5"
        ],
        [
         "1",
         "F. Voigtlaender",
         "0.0128",
         "6"
        ],
        [
         "7",
         "Thomas Setzer",
         "0.0123",
         "7"
        ],
        [
         "5",
         "P. Fontaine",
         "0.0119",
         "8"
        ]
       ],
       "shape": {
        "columns": 3,
        "rows": 8
       }
      },
      "text/html": [
       "<div>\n",
       "<style scoped>\n",
       "    .dataframe tbody tr th:only-of-type {\n",
       "        vertical-align: middle;\n",
       "    }\n",
       "\n",
       "    .dataframe tbody tr th {\n",
       "        vertical-align: top;\n",
       "    }\n",
       "\n",
       "    .dataframe thead th {\n",
       "        text-align: right;\n",
       "    }\n",
       "</style>\n",
       "<table border=\"1\" class=\"dataframe\">\n",
       "  <thead>\n",
       "    <tr style=\"text-align: right;\">\n",
       "      <th></th>\n",
       "      <th>Professor</th>\n",
       "      <th>PageRank Mean</th>\n",
       "      <th>Rank</th>\n",
       "    </tr>\n",
       "  </thead>\n",
       "  <tbody>\n",
       "    <tr>\n",
       "      <th>3</th>\n",
       "      <td>M. Oliver</td>\n",
       "      <td>0.0163</td>\n",
       "      <td>1</td>\n",
       "    </tr>\n",
       "    <tr>\n",
       "      <th>6</th>\n",
       "      <td>T. Janjić</td>\n",
       "      <td>0.0158</td>\n",
       "      <td>2</td>\n",
       "    </tr>\n",
       "    <tr>\n",
       "      <th>2</th>\n",
       "      <td>G. Pfander</td>\n",
       "      <td>0.0157</td>\n",
       "      <td>3</td>\n",
       "    </tr>\n",
       "    <tr>\n",
       "      <th>0</th>\n",
       "      <td>Dominik Stöger</td>\n",
       "      <td>0.0138</td>\n",
       "      <td>4</td>\n",
       "    </tr>\n",
       "    <tr>\n",
       "      <th>4</th>\n",
       "      <td>N. Ray</td>\n",
       "      <td>0.0134</td>\n",
       "      <td>5</td>\n",
       "    </tr>\n",
       "    <tr>\n",
       "      <th>1</th>\n",
       "      <td>F. Voigtlaender</td>\n",
       "      <td>0.0128</td>\n",
       "      <td>6</td>\n",
       "    </tr>\n",
       "    <tr>\n",
       "      <th>7</th>\n",
       "      <td>Thomas Setzer</td>\n",
       "      <td>0.0123</td>\n",
       "      <td>7</td>\n",
       "    </tr>\n",
       "    <tr>\n",
       "      <th>5</th>\n",
       "      <td>P. Fontaine</td>\n",
       "      <td>0.0119</td>\n",
       "      <td>8</td>\n",
       "    </tr>\n",
       "  </tbody>\n",
       "</table>\n",
       "</div>"
      ],
      "text/plain": [
       "         Professor  PageRank Mean  Rank\n",
       "3        M. Oliver         0.0163     1\n",
       "6        T. Janjić         0.0158     2\n",
       "2       G. Pfander         0.0157     3\n",
       "0   Dominik Stöger         0.0138     4\n",
       "4           N. Ray         0.0134     5\n",
       "1  F. Voigtlaender         0.0128     6\n",
       "7    Thomas Setzer         0.0123     7\n",
       "5      P. Fontaine         0.0119     8"
      ]
     },
     "metadata": {},
     "output_type": "display_data"
    }
   ],
   "source": [
    "prof_rank_summary_mean = (\n",
    "    prof_rank_summary[['authorName', 'pagerank_mean']]\n",
    "    .copy()\n",
    "    .rename(columns={'authorName': 'Professor', 'pagerank_mean': 'PageRank Mean'})\n",
    ")\n",
    "prof_rank_summary_mean['PageRank Mean'] = prof_rank_summary_mean['PageRank Mean'].round(4)\n",
    "prof_rank_summary_mean['Rank'] = prof_rank_summary_mean['PageRank Mean'].rank(method='dense', ascending=False).astype(int)\n",
    "\n",
    "display(prof_rank_summary_mean.sort_values('Rank').head(10))"
   ]
  },
  {
   "cell_type": "code",
   "execution_count": null,
   "id": "534c38f3-d082-4e97-bddc-0d7d72000512",
   "metadata": {},
   "outputs": [],
   "source": []
  }
 ],
 "metadata": {
  "kernelspec": {
   "display_name": "Python [conda env:base] *",
   "language": "python",
   "name": "conda-base-py"
  },
  "language_info": {
   "codemirror_mode": {
    "name": "ipython",
    "version": 3
   },
   "file_extension": ".py",
   "mimetype": "text/x-python",
   "name": "python",
   "nbconvert_exporter": "python",
   "pygments_lexer": "ipython3",
   "version": "3.11.5"
  }
 },
 "nbformat": 4,
 "nbformat_minor": 5
}
